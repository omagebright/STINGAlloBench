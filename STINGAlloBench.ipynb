{
 "cells": [
  {
   "cell_type": "markdown",
   "metadata": {},
   "source": [
    "<div style=\"text-align: justify; padding:5px; background-color:rgb(252, 253, 255); border: 1px solid lightgrey; padding-left: 1em; padding-right: 1em;\">\n",
    "<img src=\"https://www.cbi.cnptia.embrapa.br/SMS/images/logo_topo_centro_dir.gif\" width=\"180px\" align=\"right\" style=\"padding: 20px\">\n",
    "\n",
    "<a id=\"introduction\"></a>\n",
    "\n",
    "<h1> STINGAlloBench- FB_Omage_etal_2023\n",
    "</h1>\n",
    "\n",
    "<br>\n",
    "<br>\n",
    "<br>\n",
    "<p  style=\"text-align: justify\">STINGAlloBench: A benchmarking dataset for precise allosteric site prediction using experimentally validated data, tailored for computational biology and machine learning.</p>\n",
    "\n",
    "\n",
    "<br>\n",
    "The steps included in this data analysis and visualisation workflow are: \n",
    "<br>\n",
    "\n",
    "1. <a href=\"#1\">Import Packages</a><br>\n",
    "2. <a href=\"#2\">Load Data & Peak Sheet</a><br>\n",
    "3. <a href=\"#3\">Extract X & Y</a><br>\n",
    "4. <a href=\"#4\">Split Data into Train & Test Set</a><br>\n",
    "5. <a href=\"#5\">Extract, Transform, & Scale X Data with Missing Values Imputed</a><br>\n",
    "6. <a href=\"#6\">Hyperparameter Optimisation</a><br>\n",
    "    6.1. <a href=\"#6.1\">Plot R² & Q²</a><br>\n",
    "    6.2. <a href=\"#6.2\">Plot Latent Projections: Full & CV</a><br>\n",
    "7. <a href=\"#7\">Build Model & Evaluate</a><br>\n",
    "8. <a href=\"#8\">Permutation Test</a><br>\n",
    "9. <a href=\"#9\">Bootstrap Resampling of the Model</a><br> \n",
    "10. <a href=\"#10\">Model Evaluation using Bootstrap Resampling</a><br> \n",
    "11. <a href=\"#11\">Model Visualisation</a><br> \n",
    "    11.1. <a href=\"#11.1\">Plot Latent Projections: in-bag & out-of-bag</a><br>\n",
    "    11.2. <a href=\"#11.2\">Plot Weight Vectors</a><br>\n",
    "12. <a href=\"#12\">Variable Contribution Plots</a><br>  \n",
    "13. <a href=\"#12\">Export Results</a><br>\n",
    "\n",
    "</div>\n"
   ]
  },
  {
   "cell_type": "markdown",
   "metadata": {
    "toc-hr-collapsed": true
   },
   "source": [
    "<a id=\"1\"></a>\n",
    "## Packages\n",
    "\n",
    "Packages provide additional tools that extend beyond the basic functionality of Python programming. Prior to usage, packages need to be imported into the environment. The following packages need to be imported for this computational workflow:\n",
    "\n",
    "- numpy: A standard package primarily used for the manipulation of arrays.\n",
    "- pandas: A standard package primarily used for the manipulation of data tables.\n",
    "- matplotlib: A standard package primarily used for creating static, animated, and interactive visualizations in Python.\n",
    "- seaborn: A Python data visualization library based on matplotlib. It provides a high-level interface for drawing attractive and informative statistical graphics.\n",
    "- shap: A unified approach to explain the output of any machine learning model.\n",
    "- torch: An open source machine learning framework that accelerates the path from research prototyping to production deployment.\n",
    "- platform: A standard Python library to access underlying platform's identifying data.\n",
    "- psutil: A cross-platform library used to access system details and process utilities.\n",
    "- time: A standard Python library for time-related tasks.\n",
    "- warnings: A standard Python library to warn the developer about changes that might affect their program.\n",
    "- sklearn: A standard package with tools for machine learning.\n",
    "- feature_engine: A Python library with multiple feature engineering techniques.\n",
    "- xgboost: An optimized distributed gradient boosting library.\n"
   ]
  },
  {
   "cell_type": "code",
   "execution_count": 1,
   "metadata": {},
   "outputs": [
    {
     "name": "stdout",
     "output_type": "stream",
     "text": [
      "CPU:\n",
      "  Number of cores: 40\n",
      "  Number of threads: 80\n",
      "  Architecture: x86_64\n",
      "RAM:\n",
      "  Total: 1081.8 GB\n",
      "All packages successfully loaded\n"
     ]
    }
   ],
   "source": [
    "import platform\n",
    "import psutil\n",
    "import time\n",
    "import warnings\n",
    "import numpy as np\n",
    "import pandas as pd\n",
    "import matplotlib.pyplot as plt\n",
    "import seaborn as sns\n",
    "\n",
    "\n",
    "warnings.filterwarnings('ignore')\n",
    "sns.set(style='darkgrid', font_scale=1.4)\n",
    "\n",
    "# Print CPU information\n",
    "print('CPU:')\n",
    "print(f'  Number of cores: {psutil.cpu_count(logical=False)}')\n",
    "print(f'  Number of threads: {psutil.cpu_count(logical=True)}')\n",
    "print(f'  Architecture: {platform.processor()}')\n",
    "\n",
    "# Print RAM information\n",
    "print('RAM:')\n",
    "print(f'  Total: {psutil.virtual_memory().total / 1e9:.1f} GB')\n",
    "\n",
    "print('All packages successfully loaded')"
   ]
  },
  {
   "cell_type": "markdown",
   "metadata": {},
   "source": [
    "<div style=\"background-color:rgb(255, 250, 250); padding:20px;\">\n",
    "\n",
    "<h2>Analysis of the Allosteric Site Database (ASD) for Benchmark Creation</h2>\n",
    "\n",
    "<p>This section details the methodology for loading, processing, and analyzing the Allosteric Site Database (ASD) to create a comprehensive benchmark for allosteric site modeling. The process involves several key steps, from initial data acquisition to the final preparation of the dataset for analysis. The steps are outlined below:</p>\n",
    "\n",
    "<ul>\n",
    " <li><strong>Data Acquisition:</strong> The ASD dataset is acquired from the official ASD website at <a href=\"https://mdl.shsmu.edu.cn/ASD/module/download/download.jsp?tabIndex=1\" target=\"_blank\">https://mdl.shsmu.edu.cn/ASD</a>. The data is downloaded in a .txt file format, which is subsequently converted to a .csv format for compatibility with data processing tools.</li>\n",
    "    <li><strong>Data Loading:</strong> The converted .csv file is loaded into the data processing environment using <code>pd.read_csv()</code> or similar commands, ensuring the integrity and completeness of the imported data.</li>\n",
    "</ul>\n",
    "\n",
    "<p>The resulting benchmark dataset from the ASD will serve as a foundation for rigorous evaluation and comparison of computational methods in predicting and analyzing allosteric sites, facilitating advancements in the field of allosteric modulation research.</p>\n",
    "\n",
    "</div>\n"
   ]
  },
  {
   "cell_type": "code",
   "execution_count": 2,
   "metadata": {},
   "outputs": [],
   "source": [
    "df = pd.read_csv('ASD_Release_202309_AS.csv')"
   ]
  },
  {
   "cell_type": "code",
   "execution_count": 4,
   "metadata": {},
   "outputs": [
    {
     "data": {
      "text/plain": [
       "Index(['target_id', 'target_gene', 'organism', 'pdb_uniprot', 'allosteric_pdb',\n",
       "       'modulator_serial', 'modulator_alias', 'modulator_chain',\n",
       "       'modulator_class', 'modulator_feature', 'modulator_name',\n",
       "       'modulator_resi', 'function', 'position', 'pubmed_id', 'ref_title',\n",
       "       'site_overlap', 'allosteric_site_residue'],\n",
       "      dtype='object')"
      ]
     },
     "execution_count": 4,
     "metadata": {},
     "output_type": "execute_result"
    }
   ],
   "source": [
    "df.columns"
   ]
  },
  {
   "cell_type": "markdown",
   "metadata": {},
   "source": [
    "<div style=\"background-color:rgb(255, 250, 250); padding:20px;\">\n",
    "\n",
    "<h2>Step 1: Fetching X-ray Resolution Data</h2>\n",
    "\n",
    "<p>This initial step in our methodology involves programmatically retrieving X-ray resolution data for protein structures identified by their PDB IDs. This process is crucial for assessing the quality of the crystallographic data associated with each allosteric site in the dataset. The following outlines the key components of this step:</p>\n",
    "\n",
    "<ul>\n",
    "    <li><strong>Function Definition:</strong> A Python function <code>fetch_resolution</code> is defined to automate the fetching of X-ray resolution data for a given PDB ID. This function utilizes the RCSB PDB REST API to access structural data.</li>\n",
    "    <li><strong>API Request:</strong> For each PDB ID, an HTTP GET request is sent to the RCSB PDB REST API. The request URL is dynamically constructed to include the specific PDB ID of interest.</li>\n",
    "    <li><strong>Data Extraction:</strong> Upon a successful API response, the function parses the returned JSON data to extract the X-ray resolution value, if available. This is accomplished by accessing nested fields within the JSON structure.</li>\n",
    "    <li><strong>Error Handling:</strong> In cases where the API request is unsuccessful or the PDB ID does not exist in the database, the function returns <code>NaN</code> to indicate the absence of resolution data.</li>\n",
    "    <li><strong>Applying the Function:</strong> The <code>fetch_resolution</code> function is applied across a DataFrame <code>df</code>, which contains a column <code>'allosteric_pdb'</code> with the PDB IDs. This application results in a new column <code>'resolution'</code> in the DataFrame, populated with the fetched X-ray resolution values.</li>\n",
    "</ul>\n",
    "\n",
    "<p>This procedure ensures that each entry in our dataset is augmented with precise resolution data, facilitating a more informed analysis and selection of high-quality allosteric sites for further study and benchmarking.</p>\n",
    "\n",
    "</div>\n"
   ]
  },
  {
   "cell_type": "code",
   "execution_count": 5,
   "metadata": {},
   "outputs": [],
   "source": [
    "import requests\n",
    "\n",
    "# Function to fetch X-ray resolution for a given PDB ID using the RCSB PDB REST API\n",
    "def fetch_resolution(pdb_id):\n",
    "    url = f\"https://data.rcsb.org/rest/v1/core/entry/{pdb_id}\"\n",
    "    response = requests.get(url)\n",
    "    \n",
    "    if response.status_code == 200:\n",
    "        data = response.json()\n",
    "        # Extracting resolution from the response JSON, if available\n",
    "        resolution = data.get('rcsb_entry_info', {}).get('resolution_combined', [None])[0]\n",
    "        return resolution\n",
    "    else:\n",
    "        # Return NaN if the request was unsuccessful or the PDB ID is not found\n",
    "        return float('nan')\n",
    "\n",
    "# Apply the function to fetch X-ray resolution for each PDB ID in the DataFrame\n",
    "df['resolution'] = df['allosteric_pdb'].apply(fetch_resolution)\n",
    "\n",
    "# Display the updated DataFrame\n"
   ]
  },
  {
   "cell_type": "code",
   "execution_count": 7,
   "metadata": {},
   "outputs": [],
   "source": [
    "df.to_csv('asd_step_1a.csv', index=False)"
   ]
  },
  {
   "cell_type": "code",
   "execution_count": 8,
   "metadata": {},
   "outputs": [
    {
     "name": "stdout",
     "output_type": "stream",
     "text": [
      "Total entries before removal: 3102\n",
      "Total entries after removal: 2701\n"
     ]
    }
   ],
   "source": [
    "#Statistics on the number of initial entries at this stage\n",
    "\n",
    "# Total number of entries before removing entries with resolution >= 3.0\n",
    "total_entries_before = len(df)\n",
    "print(f\"Total entries before removal: {total_entries_before}\")\n",
    "\n",
    "# Remove entries with resolution greater than or equal to 3.0\n",
    "df_filtered = df[df['resolution'] < 3.0]\n",
    "\n",
    "# Total number of entries after removal\n",
    "total_entries_after = len(df_filtered)\n",
    "print(f\"Total entries after removal: {total_entries_after}\")"
   ]
  },
  {
   "cell_type": "code",
   "execution_count": null,
   "metadata": {},
   "outputs": [],
   "source": []
  }
 ],
 "metadata": {
  "kernelspec": {
   "display_name": "Python 3 (ipykernel)",
   "language": "python",
   "name": "python3"
  },
  "language_info": {
   "codemirror_mode": {
    "name": "ipython",
    "version": 3
   },
   "file_extension": ".py",
   "mimetype": "text/x-python",
   "name": "python",
   "nbconvert_exporter": "python",
   "pygments_lexer": "ipython3",
   "version": "3.8.10"
  },
  "toc": {
   "base_numbering": 1,
   "nav_menu": {},
   "number_sections": false,
   "sideBar": false,
   "skip_h1_title": false,
   "title_cell": "Table of Contents",
   "title_sidebar": "Contents",
   "toc_cell": false,
   "toc_position": {},
   "toc_section_display": false,
   "toc_window_display": false
  },
  "toc-autonumbering": false,
  "toc-showmarkdowntxt": false
 },
 "nbformat": 4,
 "nbformat_minor": 2
}
